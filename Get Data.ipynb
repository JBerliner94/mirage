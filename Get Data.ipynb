{
 "cells": [
  {
   "cell_type": "code",
   "execution_count": 1,
   "metadata": {
    "collapsed": true
   },
   "outputs": [],
   "source": [
    "import quandl as qdl"
   ]
  },
  {
   "cell_type": "code",
   "execution_count": 3,
   "metadata": {
    "collapsed": true
   },
   "outputs": [],
   "source": [
    "def get_from_symbol(symbol, **kwargs):\n",
    "    df = qdl.get('WIKI/{}'.format(symbol), **kwargs)\n",
    "    df['GOING_UP'] = 0\n",
    "    for i in range(1, len(df)):\n",
    "        if df['Adj. Close'].values[i] > df['Adj. Close'].values[i-1]:\n",
    "            df['GOING_UP'].values[i] = 1\n",
    "    return df"
   ]
  },
  {
   "cell_type": "code",
   "execution_count": 6,
   "metadata": {
    "collapsed": false
   },
   "outputs": [],
   "source": [
    "df = get_from_symbol('AAPL', collapse='daily', start_date='2015-01-01') #can also do 'weekly'"
   ]
  }
 ],
 "metadata": {
  "kernelspec": {
   "display_name": "Python [default]",
   "language": "python",
   "name": "python2"
  },
  "language_info": {
   "codemirror_mode": {
    "name": "ipython",
    "version": 2
   },
   "file_extension": ".py",
   "mimetype": "text/x-python",
   "name": "python",
   "nbconvert_exporter": "python",
   "pygments_lexer": "ipython2",
   "version": "2.7.12"
  }
 },
 "nbformat": 4,
 "nbformat_minor": 1
}
